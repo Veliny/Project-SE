{
  "nbformat": 4,
  "nbformat_minor": 0,
  "metadata": {
    "colab": {
      "name": "Research.ipynb",
      "provenance": [],
      "collapsed_sections": []
    },
    "kernelspec": {
      "name": "python3",
      "display_name": "Python 3"
    },
    "language_info": {
      "name": "python"
    }
  },
  "cells": [
    {
      "cell_type": "code",
      "metadata": {
        "id": "Kkst0lXeGUqe"
      },
      "source": [
        "!apt-get install openjdk-8-jdk-headless -qq > /dev/null\n",
        "!wget -q https://downloads.apache.org/spark/spark-3.0.2/spark-3.0.2-bin-hadoop2.7.tgz\n",
        "!tar -xvf spark-3.0.2-bin-hadoop2.7.tgz\n",
        "!pip install -q findspark\n",
        "import os\n",
        "os.environ[\"JAVA_HOME\"] = \"/usr/lib/jvm/java-8-openjdk-amd64\"\n",
        "os.environ[\"SPARK_HOME\"] = \"/content/spark-3.0.2-bin-hadoop2.7\"\n",
        "import findspark\n",
        "findspark.init()"
      ],
      "execution_count": 1,
      "outputs": []
    },
    {
      "cell_type": "code",
      "metadata": {
        "id": "xxmFlQmsGW4c"
      },
      "source": [
        "from pyspark.sql import SparkSession\n",
        "import matplotlib.pyplot as plt\n",
        "\n",
        "spark = SparkSession.builder.getOrCreate()\n",
        "\n",
        "Riset_Research = spark.read.option(\"inferSchema\", \"true\").csv(\"Riset Pemahaman Masyarakat mengenai keamanan big data.csv\", header = True)\n",
        "\n",
        "Riset_Research.registerTempTable(\"Riset_Research\")"
      ],
      "execution_count": 20,
      "outputs": []
    },
    {
      "cell_type": "code",
      "metadata": {
        "colab": {
          "base_uri": "https://localhost:8080/",
          "height": 391
        },
        "id": "E-fdQP-hGtAN",
        "outputId": "1645638e-9705-4850-8502-bccac969b889"
      },
      "source": [
        "vis1 = spark.sql(\"\"\"\n",
        "    SELECT \n",
        "      Big_Data_Berbahaya AS knows,\n",
        "      COUNT(Big_Data_Berbahaya) AS con\n",
        "    FROM Riset_Research \n",
        "    WHERE\n",
        "\t    Jurusan_Computer_Science = 'Ya'\n",
        "     GROUP BY \n",
        "      knows \n",
        "\"\"\")\n",
        "\n",
        "vis1.show()\n",
        "\n",
        "vis1 = vis1.toPandas()\n",
        "plt.pie(vis1[\"con\"], labels=vis1[\"knows\"], autopct=\"%.2f%%\")\n",
        "plt.title(\"Computer Science, Is Big Data Dangerous?\")\n",
        "plt.show()"
      ],
      "execution_count": 40,
      "outputs": [
        {
          "output_type": "stream",
          "text": [
            "+-----+---+\n",
            "|knows|con|\n",
            "+-----+---+\n",
            "|Tidak|  6|\n",
            "|   Ya|  6|\n",
            "+-----+---+\n",
            "\n"
          ],
          "name": "stdout"
        },
        {
          "output_type": "display_data",
          "data": {
            "image/png": "[encoded data removed]",
            "text/plain": [
              "<Figure size 432x288 with 1 Axes>"
            ]
          },
          "metadata": {
            "tags": []
          }
        }
      ]
    },
    {
      "cell_type": "code",
      "metadata": {
        "colab": {
          "base_uri": "https://localhost:8080/",
          "height": 391
        },
        "id": "uai3pt0QNBKm",
        "outputId": "0d6a96bd-4740-4220-ea08-f8e794fadbc7"
      },
      "source": [
        "vis2 = spark.sql(\"\"\"\n",
        "    SELECT \n",
        "      Big_Data_Berbahaya AS knows,\n",
        "      COUNT(Big_Data_Berbahaya) AS con\n",
        "    FROM Riset_Research \n",
        "    WHERE\n",
        "\t    Jurusan_Computer_Science = 'Tidak'\n",
        "     GROUP BY \n",
        "      knows \n",
        "\"\"\")\n",
        "\n",
        "vis2.show()\n",
        "\n",
        "vis2 = vis2.toPandas()\n",
        "plt.pie(vis2[\"con\"], labels=vis2[\"knows\"], autopct=\"%.2f%%\")\n",
        "plt.title(\"No Major Computer Science, Is Big Data Dangerous?\")\n",
        "plt.show()"
      ],
      "execution_count": 43,
      "outputs": [
        {
          "output_type": "stream",
          "text": [
            "+-----+---+\n",
            "|knows|con|\n",
            "+-----+---+\n",
            "|Tidak| 28|\n",
            "|   Ya| 20|\n",
            "+-----+---+\n",
            "\n"
          ],
          "name": "stdout"
        },
        {
          "output_type": "display_data",
          "data": {
            "image/png": "[encoded data removed]",
            "text/plain": [
              "<Figure size 432x288 with 1 Axes>"
            ]
          },
          "metadata": {
            "tags": []
          }
        }
      ]
    }
  ]
}